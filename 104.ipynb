{
  "nbformat": 4,
  "nbformat_minor": 0,
  "metadata": {
    "colab": {
      "provenance": []
    },
    "kernelspec": {
      "name": "python3",
      "display_name": "Python 3"
    },
    "language_info": {
      "name": "python"
    }
  },
  "cells": [
    {
      "cell_type": "code",
      "execution_count": null,
      "metadata": {
        "colab": {
          "base_uri": "https://localhost:8080/"
        },
        "id": "tBxU3HH07Db8",
        "outputId": "fb20d01b-6ee8-46db-926c-ab3f56fd8004"
      },
      "outputs": [
        {
          "output_type": "stream",
          "name": "stdout",
          "text": [
            "(60000, 28, 28) (60000,) (10000, 28, 28) (10000,)\n",
            "Epoch 1/5\n",
            "1875/1875 [==============================] - 9s 4ms/step - loss: 0.6138 - accuracy: 0.8328\n",
            "Epoch 2/5\n",
            "1875/1875 [==============================] - 8s 4ms/step - loss: 0.2569 - accuracy: 0.9244\n",
            "Epoch 3/5\n",
            "1875/1875 [==============================] - 8s 4ms/step - loss: 0.2003 - accuracy: 0.9417\n",
            "Epoch 4/5\n",
            "1875/1875 [==============================] - 8s 4ms/step - loss: 0.1648 - accuracy: 0.9520\n",
            "Epoch 5/5\n",
            "1875/1875 [==============================] - 8s 4ms/step - loss: 0.1394 - accuracy: 0.9597\n",
            "313/313 [==============================] - 1s 3ms/step - loss: 0.1334 - accuracy: 0.9620\n",
            "Accuracv: 0.9620000123977661\n",
            "Model: \"sequential_4\"\n",
            "_________________________________________________________________\n",
            " Layer (type)                Output Shape              Param #   \n",
            "=================================================================\n",
            " dense_16 (Dense)            (None, 256)               200960    \n",
            "                                                                 \n",
            " dense_17 (Dense)            (None, 256)               65792     \n",
            "                                                                 \n",
            " dense_18 (Dense)            (None, 256)               65792     \n",
            "                                                                 \n",
            " dense_19 (Dense)            (None, 10)                2570      \n",
            "                                                                 \n",
            "=================================================================\n",
            "Total params: 335,114\n",
            "Trainable params: 335,114\n",
            "Non-trainable params: 0\n",
            "_________________________________________________________________\n"
          ]
        }
      ],
      "source": [
        "from keras.utils import np_utils\n",
        "from keras.datasets import mnist\n",
        "from keras.models import Sequential\n",
        "from keras.layers import Dense\n",
        "\n",
        "# MNIST data\n",
        "(train_images, train_labels), (test_images, test_labels) = mnist.load_data ()\n",
        "print(train_images.shape, train_labels.shape, test_images.shape, test_labels.shape)\n",
        "train_images = train_images.reshape(train_images.shape[0], 784).astype ('float32')/255.0\n",
        "test_images = test_images.reshape(test_images.shape[0], 784).astype ('float32')/255.0\n",
        "train_labels = np_utils.to_categorical(train_labels) # One-Hot Encoding\n",
        "test_labels = np_utils.to_categorical(test_labels) # One-Hot Encoding\n",
        "# Model\n",
        "model = Sequential()\n",
        "model.add (Dense (256, activation='relu')) # units=256, activation='relu'\n",
        "model.add (Dense (256, activation='relu')) # units=256, activation='relu'\n",
        "model.add (Dense (256, activation='relu')) # units=256, activation='relu'\n",
        "model.add (Dense (10, activation='softmax')) # units=10, activation='softmax'\n",
        "model.compile (loss='categorical_crossentropy', optimizer='sgd', metrics= ['accuracy'])\n",
        "# Training\n",
        "model.fit(train_images, train_labels, epochs=5, batch_size=32, verbose=1)\n",
        "# Testing\n",
        "_,accuracy = model.evaluate(test_images, test_labels)\n",
        "print ('Accuracv:' , accuracy)\n",
        "model.summary ()"
      ]
    }
  ]
}